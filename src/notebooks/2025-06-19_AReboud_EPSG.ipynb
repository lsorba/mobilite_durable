{
 "cells": [
  {
   "cell_type": "markdown",
   "id": "9bea0881-16b9-45b0-a145-597489641679",
   "metadata": {},
   "source": [
    "# 🚌 Projet MDM - Mobilité Durable en Montagne ⛰️\n",
    "\n",
    "*Auteur : Arnaud Reboud*\n",
    "\n",
    "*Date : 19/06/2025*\n",
    "\n",
    "**Description :**\n",
    "\n",
    "This script loads the List_iti_D4G_isre.csv dataset and extracts the coordinates (X and Y) in EPSG:3857 and converts them to EPSG:4326 (lon, lat). It then add both coordinates to the dataset and saves the results to a CSV file. Original data are conserved."
   ]
  },
  {
   "cell_type": "code",
   "execution_count": 1,
   "id": "1b5279ed-b6df-4f00-b9c4-8eadb70a8e69",
   "metadata": {},
   "outputs": [],
   "source": [
    "import geopandas as gpd\n",
    "import pandas as pd\n",
    "from pyproj import Transformer"
   ]
  },
  {
   "cell_type": "code",
   "execution_count": 2,
   "id": "faf1351f-10ca-4922-b5b8-7e48670a2444",
   "metadata": {},
   "outputs": [],
   "source": [
    "# load dataset\n",
    "data = pd.read_csv(\"../data/C2C/Liste_iti_D4G_isere.csv\")\n",
    "\n",
    "# Extract X and Y coordinates from the column\n",
    "X = (\n",
    "    data[\"(id WP - titre - [X,Y] - accessibilité (si renseigné) )\"]\n",
    "    .str.extract(r\"(?<= - \\[)([^]]+)(?=\\])\")[0]\n",
    "    .str.strip()\n",
    "    .str.split(\",\", expand=True)[0]\n",
    "    .astype(float)\n",
    ")\n",
    "Y = (\n",
    "    data[\"(id WP - titre - [X,Y] - accessibilité (si renseigné) )\"]\n",
    "    .str.extract(r\"(?<= - \\[)([^]]+)(?=\\])\")[0]\n",
    "    .str.strip()\n",
    "    .str.split(\",\", expand=True)[1]\n",
    "    .astype(float)\n",
    ")\n",
    "\n",
    "# Transform coordinates from EPSG:3857 to EPSG:4326\n",
    "# EPSG:3857 is Web Mercator, EPSG:4326 is WGS84\n",
    "transformer = Transformer.from_crs(crs_from=\"EPSG:3857\", crs_to=\"EPSG:4326\", always_xy=True)\n",
    "lon, lat = transformer.transform(X, Y)\n",
    "\n",
    "# Add coordinates to the DataFrame\n",
    "data[\"X\"], data[\"Y\"], data[\"lon\"], data[\"lat\"] = X, Y, lon, lat\n",
    "\n",
    "# Save the DataFrame to a CSV file\n",
    "data.to_csv(\"../data/C2C/Liste_iti_D4G_isere_output.csv\", index=False)\n",
    "\n",
    "# create GeoDataFrame with X and Y coordinates in EPSG:3857\n",
    "gdf_3857 = gpd.GeoDataFrame(data, geometry=gpd.points_from_xy(X, Y), crs=\"EPSG:3857\")\n",
    "\n",
    "# convert GeoDataFrame to EPSG:4326\n",
    "gdf_4326 = gdf_3857.to_crs(\"EPSG:4326\")"
   ]
  },
  {
   "cell_type": "code",
   "execution_count": null,
   "id": "f6460878-18a8-4a9e-a60a-635acea36c39",
   "metadata": {},
   "outputs": [],
   "source": []
  }
 ],
 "metadata": {
  "kernelspec": {
   "display_name": "Python 3 (ipykernel)",
   "language": "python",
   "name": "python3"
  },
  "language_info": {
   "codemirror_mode": {
    "name": "ipython",
    "version": 3
   },
   "file_extension": ".py",
   "mimetype": "text/x-python",
   "name": "python",
   "nbconvert_exporter": "python",
   "pygments_lexer": "ipython3",
   "version": "3.13.5"
  }
 },
 "nbformat": 4,
 "nbformat_minor": 5
}
